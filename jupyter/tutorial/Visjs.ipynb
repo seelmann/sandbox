{
 "cells": [
  {
   "cell_type": "code",
   "execution_count": 1,
   "metadata": {},
   "outputs": [],
   "source": [
    "# Source: https://www.codementor.io/isaib.cicourel/visjs-visualization-in-jupyter-notebook-phgb3fjv0\n",
    "# https://github.com/thedataincubator/ihtml/blob/master/README.ipynb"
   ]
  },
  {
   "cell_type": "code",
   "execution_count": 2,
   "metadata": {},
   "outputs": [],
   "source": [
    "from IPython.core.display import display, HTML\n",
    "from string import Template\n",
    "import json"
   ]
  },
  {
   "cell_type": "code",
   "execution_count": 3,
   "metadata": {},
   "outputs": [
    {
     "data": {
      "text/html": [
       "<div id=\"mynetwork\"></div>"
      ],
      "text/plain": [
       "<IPython.core.display.HTML object>"
      ]
     },
     "metadata": {},
     "output_type": "display_data"
    }
   ],
   "source": [
    "%%html\n",
    "<div id=\"mynetwork\"></div>"
   ]
  },
  {
   "cell_type": "code",
   "execution_count": 4,
   "metadata": {},
   "outputs": [
    {
     "data": {
      "application/javascript": [
       "requirejs.config({\n",
       "    paths: {\n",
       "        vis2: 'https://cdnjs.cloudflare.com/ajax/libs/vis/4.21.0/vis'\n",
       "    }\n",
       "});\n",
       "\n",
       "require(['vis2'], function(vis){\n",
       "    \n",
       "    var nodes = [\n",
       "        {id: 1, label: 'Beyonce', group: 'United States'},\n",
       "        {id: 2, label: 'Barak Obama', group: 'United States'},\n",
       "        {id: 3, label: 'Miley Cyrus', group: 'United States'},\n",
       "        {id: 4, label: 'Pope Francis', group: 'Vatican'},\n",
       "        {id: 5, label: 'Vladimir Putin', group: 'Rusia'}\n",
       "    ];\n",
       "\n",
       "    // create an array with edges\n",
       "    var edges = [\n",
       "        {from: 1, to: 2},\n",
       "        {from: 1, to: 3},\n",
       "        {from: 2, to: 4},\n",
       "        {from: 2, to: 5}\n",
       "    ];\n",
       "\n",
       "    // create a network\n",
       "    var container = document.getElementById('mynetwork');\n",
       "    var data= {\n",
       "        nodes: nodes,\n",
       "        edges: edges,\n",
       "    };\n",
       "    var options = {\n",
       "        width: '800px',\n",
       "        height: '400px'\n",
       "    };\n",
       "    \n",
       "    var network = new vis.Network(container, data, options);\n",
       "});"
      ],
      "text/plain": [
       "<IPython.core.display.Javascript object>"
      ]
     },
     "metadata": {},
     "output_type": "display_data"
    }
   ],
   "source": [
    "%%javascript\n",
    "requirejs.config({\n",
    "    paths: {\n",
    "        vis: 'https://cdnjs.cloudflare.com/ajax/libs/vis/4.21.0/vis'\n",
    "    }\n",
    "});\n",
    "\n",
    "require(['vis'], function(vis){\n",
    "    \n",
    "    var nodes = [\n",
    "        {id: 1, label: 'Beyonce', group: 'United States'},\n",
    "        {id: 2, label: 'Barak Obama', group: 'United States'},\n",
    "        {id: 3, label: 'Miley Cyrus', group: 'United States'},\n",
    "        {id: 4, label: 'Pope Francis', group: 'Vatican'},\n",
    "        {id: 5, label: 'Vladimir Putin', group: 'Rusia'}\n",
    "    ];\n",
    "\n",
    "    // create an array with edges\n",
    "    var edges = [\n",
    "        {from: 1, to: 2},\n",
    "        {from: 1, to: 3},\n",
    "        {from: 2, to: 4},\n",
    "        {from: 2, to: 5}\n",
    "    ];\n",
    "\n",
    "    // create a network\n",
    "    var container = document.getElementById('mynetwork');\n",
    "    var data= {\n",
    "        nodes: nodes,\n",
    "        edges: edges,\n",
    "    };\n",
    "    var options = {\n",
    "        width: '800px',\n",
    "        height: '400px'\n",
    "    };\n",
    "    \n",
    "    var network = new vis.Network(container, data, options);\n",
    "});"
   ]
  },
  {
   "cell_type": "code",
   "execution_count": null,
   "metadata": {},
   "outputs": [],
   "source": []
  }
 ],
 "metadata": {
  "kernelspec": {
   "display_name": "Python 3",
   "language": "python",
   "name": "python3"
  },
  "language_info": {
   "codemirror_mode": {
    "name": "ipython",
    "version": 3
   },
   "file_extension": ".py",
   "mimetype": "text/x-python",
   "name": "python",
   "nbconvert_exporter": "python",
   "pygments_lexer": "ipython3",
   "version": "3.6.3"
  }
 },
 "nbformat": 4,
 "nbformat_minor": 2
}
